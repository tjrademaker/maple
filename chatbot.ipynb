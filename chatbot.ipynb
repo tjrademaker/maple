{
 "cells": [
  {
   "cell_type": "code",
   "execution_count": 1,
   "id": "ea7e47d5",
   "metadata": {},
   "outputs": [],
   "source": [
    "\"\"\"\n",
    "DEV environment to test out OpenAI ideas\n",
    "\"\"\";"
   ]
  },
  {
   "cell_type": "code",
   "execution_count": 2,
   "id": "e8c7d456-d315-48e8-a9b4-12932a43b616",
   "metadata": {},
   "outputs": [],
   "source": [
    "from scripts.helper import *\n",
    "from scripts.chatting import *\n",
    "from scripts.research import *\n",
    "from scripts.onboarding import *"
   ]
  },
  {
   "cell_type": "code",
   "execution_count": 3,
   "id": "c9672261",
   "metadata": {},
   "outputs": [],
   "source": [
    "import os\n",
    "import openai\n",
    "\n",
    "from ipywidgets import *\n",
    "from IPython import display"
   ]
  },
  {
   "cell_type": "code",
   "execution_count": 4,
   "id": "b2042c36",
   "metadata": {},
   "outputs": [],
   "source": [
    "import warnings\n",
    "warnings.filterwarnings(\"ignore\", category=DeprecationWarning)"
   ]
  },
  {
   "cell_type": "code",
   "execution_count": 5,
   "id": "b48c8c54-67c4-4741-ad8f-f96473b60238",
   "metadata": {},
   "outputs": [],
   "source": [
    "def print_disclaimer():\n",
    "    pretty_print('''DISCLAIMER\n",
    "    \n",
    "    This chatbot is a mental health app under construction. Sign up to stay up-to-date <a>https://www.talktomaple.com</a>.\n",
    "\n",
    "    Feedback is appreciated and can be send to thomas.jan.rademaker@gmail.com or to any of Maple's social media accounts.\n",
    "\n",
    "    Note that none of your conversations are saved in this implementation. OpenAI reviews its API requests, for more info on how the API requests are used we refer to <a>https://openai.com/privacy/</a>. However, through this implementation your requests remain anonymous.\n",
    "\n",
    "    Since the chatbot (GPT-3) is trained on the entire internet, it may start blabbing nonsense when prompted to. ''')"
   ]
  },
  {
   "cell_type": "code",
   "execution_count": 6,
   "id": "aea8d290",
   "metadata": {},
   "outputs": [],
   "source": [
    "# set OpenAI key\n",
    "def set_api_key(debug = False):\n",
    "\n",
    "    API_key = widgets.Password(\n",
    "        value='',#os.getenv('OPENAI_API_KEY'),\n",
    "        placeholder='Enter OpenAI API key',\n",
    "        description='',\n",
    "        disabled=False,\n",
    "    )\n",
    "    \n",
    "    out = widgets.Output()\n",
    "    display.display(out)\n",
    "    \n",
    "    @out.capture()\n",
    "    def callback(wdgt):\n",
    "        \n",
    "        out.clear_output()\n",
    "        \n",
    "        #check password\n",
    "        if API_key.value.startswith('maple'):\n",
    "            b = 'sk-2KiBlaCMWztXwxc2y22HT'\n",
    "            c = '3BlbkFJXaXgoGO6IDP73T2xpCcx'\n",
    "            openai.api_key = b + c\n",
    "        elif API_key.value.startswith('sk-'):\n",
    "            openai.api_key = API_key.value\n",
    "        else:\n",
    "            pretty_print(\"This is not an API key and this is the wrong password\\nPlease try again\")\n",
    "            time.sleep(1)\n",
    "            out.clear_output()\n",
    "            set_api_key(debug)\n",
    "\n",
    "        # select Maple environment\n",
    "        pretty_print(\"API key is set, let's get chatting!\")\n",
    "        time.sleep(1)\n",
    "        out.clear_output()\n",
    "        \n",
    "        if API_key.value == 'maple':\n",
    "            select_intent(debug)\n",
    "        elif API_key.value == 'maple2':\n",
    "            research_env()\n",
    "        elif API_key.value == 'maple3':\n",
    "            select_hobbies()\n",
    "        \n",
    "    API_key.on_submit(callback)\n",
    "\n",
    "    with out:\n",
    "        pretty_print('Create an OpenAI API key at https://beta.openai.com/account/api-keys or enter password to continue without one.\\n\\nIf you are interested in using this app but do not have a password, please write to thomas.jan.rademaker@gmail.com.')\n",
    "        display.display(API_key)\n",
    "        API_key.focus()"
   ]
  },
  {
   "cell_type": "code",
   "execution_count": 7,
   "id": "e14fff3b-fefb-4987-98ab-bf131d7504b9",
   "metadata": {},
   "outputs": [
    {
     "data": {
      "application/vnd.jupyter.widget-view+json": {
       "model_id": "e127ee95458745acaf4e32ca545789c4",
       "version_major": 2,
       "version_minor": 0
      },
      "text/plain": [
       "Output()"
      ]
     },
     "metadata": {},
     "output_type": "display_data"
    }
   ],
   "source": [
    "# putting it all together\n",
    "button = widgets.ToggleButton(description = 'Click to continue')\n",
    "out = widgets.Output()\n",
    "@out.capture()\n",
    "def on_click(b):\n",
    "    if b['new']:\n",
    "        out.clear_output()\n",
    "        print_disclaimer()\n",
    "        display.display(button)\n",
    "    else:\n",
    "        out.clear_output()\n",
    "        set_api_key(debug = False)\n",
    "button.observe(on_click, 'value')\n",
    "display.display(out)\n",
    "with out:\n",
    "    pretty_print('''This chatbot is setup with a prompt to start a conversation on a topic around mental health. The functionality is similar to the prominent ChatGPT https://chat.openai.com/chat with the exception that the prompt to start the conversation is determined upon selecting intent. One also does not need to sign up to OpenAI to use this app.''')\n",
    "    display.display(button)"
   ]
  }
 ],
 "metadata": {
  "kernelspec": {
   "display_name": "Python 3 (ipykernel)",
   "language": "python",
   "name": "python3"
  },
  "language_info": {
   "codemirror_mode": {
    "name": "ipython",
    "version": 3
   },
   "file_extension": ".py",
   "mimetype": "text/x-python",
   "name": "python",
   "nbconvert_exporter": "python",
   "pygments_lexer": "ipython3",
   "version": "3.10.6"
  }
 },
 "nbformat": 4,
 "nbformat_minor": 5
}
